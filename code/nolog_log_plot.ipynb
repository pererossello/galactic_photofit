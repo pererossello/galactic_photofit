{
 "cells": [
  {
   "cell_type": "code",
   "execution_count": 1,
   "metadata": {},
   "outputs": [],
   "source": [
    "%reload_ext autoreload\n",
    "%autoreload 2\n",
    "\n",
    "%run init_imports.py\n",
    "\n",
    "plt.rcParams['font.family'] = 'monospace'"
   ]
  },
  {
   "cell_type": "code",
   "execution_count": 4,
   "metadata": {},
   "outputs": [],
   "source": [
    "galaxy_name = \"UGC09629\"\n",
    "imageFile = f\"../data/{galaxy_name}_i.fits\"\n",
    "data = pyimfit.FixImage(fits.getdata(imageFile))\n",
    "cte = np.abs(np.min(data))*1.01\n",
    "data += cte\n",
    "gain, sky, zcal, ron, R = 6.565, 221.61079, -23.59790, 5.76, 0.396\n",
    "data_mag = ut.ADU_to_mag(data, sky=0, gain=gain, zcal=zcal)"
   ]
  },
  {
   "cell_type": "code",
   "execution_count": 12,
   "metadata": {},
   "outputs": [],
   "source": [
    "res, rat, subplots = 1080, 1, (2,1)\n",
    "fig, axs, fs, gs = pu.initialize_figure(fig_w=res*rat, fig_h=res,\n",
    "ratio=None,\n",
    "subplots=subplots,\n",
    "hspace=0.02,\n",
    "theme=None)\n",
    "\n",
    "cmap = 'gnuplot'\n",
    "shrink, pad, tls = 1, -0.000, 1\n",
    "data_corrected = (data ) * gain / R**2\n",
    "im, cbar = pu.magplot(data_corrected, axs[0][0], fs, shrink=shrink, pad=pad, mask=None, cmap=cmap, tls=tls, cbar_label='Surface Brightness (counts/arcsec$^2$)')\n",
    "vms = [8, 14]\n",
    "im_2, cbar_2 = pu.magplot(data_mag, axs[1][0], \n",
    "                          fs, \n",
    "                          vms=vms, \n",
    "                          shrink=shrink, pad=pad+0.00475, mask=None, cmap=cmap+'_r', \n",
    "           xtop=False, tls=tls)\n",
    "\n",
    "from matplotlib.ticker import ScalarFormatter\n",
    "formatter = ScalarFormatter(useMathText=True)\n",
    "formatter.set_scientific(True)\n",
    "formatter.set_powerlimits((-2, 2))  # you can set your own limits\n",
    "cbar.ax.yaxis.set_major_formatter(formatter)\n",
    "exponent_text = cbar.ax.yaxis.get_offset_text()\n",
    "exponent_text.set_size(tls * fs)  # set to whatever size you need\n",
    "# exponent_text.set_horizontalalignment('right')\n",
    "\n",
    "savefold = '../figures/'\n",
    "if not os.path.exists(savefold):\n",
    "    os.makedirs(savefold)\n",
    "filename = f'flux_mag_plot.png'\n",
    "savepath = os.path.join(savefold, filename)\n",
    "\n",
    "# save figure\n",
    "fig.savefig(savepath, dpi=300, bbox_inches='tight')\n",
    "\n",
    "plt.close()\n"
   ]
  },
  {
   "cell_type": "code",
   "execution_count": null,
   "metadata": {},
   "outputs": [],
   "source": []
  }
 ],
 "metadata": {
  "kernelspec": {
   "display_name": "galactic",
   "language": "python",
   "name": "python3"
  },
  "language_info": {
   "codemirror_mode": {
    "name": "ipython",
    "version": 3
   },
   "file_extension": ".py",
   "mimetype": "text/x-python",
   "name": "python",
   "nbconvert_exporter": "python",
   "pygments_lexer": "ipython3",
   "version": "3.10.12"
  }
 },
 "nbformat": 4,
 "nbformat_minor": 2
}
