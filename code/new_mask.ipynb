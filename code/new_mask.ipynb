{
 "cells": [
  {
   "cell_type": "code",
   "execution_count": 1,
   "metadata": {},
   "outputs": [],
   "source": [
    "%reload_ext autoreload\n",
    "%autoreload 2\n",
    "\n",
    "%run init_imports.py\n",
    "\n",
    "from photutils.isophote import Ellipse\n",
    "from photutils.isophote import EllipseGeometry\n",
    "from photutils.aperture import EllipticalAperture\n",
    "from photutils.isophote import build_ellipse_model\n",
    "plt.rcParams['font.family'] = 'monospace'"
   ]
  },
  {
   "cell_type": "code",
   "execution_count": 2,
   "metadata": {},
   "outputs": [
    {
     "name": "stdout",
     "output_type": "stream",
     "text": [
      "(276, 231)\n",
      "ModelObjectWrapper: about to call _model.CreateModelImage()...\n"
     ]
    },
    {
     "name": "stderr",
     "output_type": "stream",
     "text": [
      "WARNING: The following header keyword is invalid or follows an unrecognized non-standard convention:\n",
      "Object  =I_recor.fits                                                            [astropy.io.fits.card]\n",
      "WARNING: The following header keyword is invalid or follows an unrecognized non-standard convention:\n",
      "Instrument =                                                                     [astropy.io.fits.card]\n",
      "WARNING: The following header keyword is invalid or follows an unrecognized non-standard convention:\n",
      "Input center =       111.09454       145.93892                                   [astropy.io.fits.card]\n",
      "WARNING: The following header keyword is invalid or follows an unrecognized non-standard convention:\n",
      "Best fit parameters                                                              [astropy.io.fits.card]\n",
      "WARNING: The following header keyword is invalid or follows an unrecognized non-standard convention:\n",
      "Ie(counts) =         690.93966                                                   [astropy.io.fits.card]\n",
      "WARNING: The following header keyword is invalid or follows an unrecognized non-standard convention:\n",
      "Re(arcsec) =         6.4766909                                                   [astropy.io.fits.card]\n",
      "WARNING: The following header keyword is invalid or follows an unrecognized non-standard convention:\n",
      "I0(counts) =          264.03936                                                  [astropy.io.fits.card]\n",
      "WARNING: The following header keyword is invalid or follows an unrecognized non-standard convention:\n",
      "h(arcsec) =       32.284417                                                      [astropy.io.fits.card]\n"
     ]
    }
   ],
   "source": [
    "galaxy_name = \"UGC09629\"\n",
    "imageFile = f\"../data/{galaxy_name}_i.fits\"\n",
    "maskFile = f\"../data/{galaxy_name}_mask2D_new.fits\"\n",
    "data = pyimfit.FixImage(fits.getdata(imageFile))\n",
    "shape = data.shape\n",
    "print(shape)\n",
    "data_mask = pyimfit.FixImage(fits.getdata(maskFile))  \n",
    "fwhm, beta = 1.25136, 3.59000\n",
    "data_moffat = pyimfit.moffat_psf(fwhm=fwhm, beta=beta, \n",
    "                PA=0.0, ell=0.0, size=31)\n",
    "gain, sky, zcal, ron = 6.565, 221.61079, -23.59790, 5.76"
   ]
  },
  {
   "cell_type": "code",
   "execution_count": 3,
   "metadata": {},
   "outputs": [
    {
     "name": "stdout",
     "output_type": "stream",
     "text": [
      "Parameter            Value                Error               \n",
      "------------------------------------------------------------\n",
      "X0_1                 111.98               0.0                 \n",
      "Y0_1                 146.95               0.0                 \n",
      "PA_1                 39.88                0.22                \n",
      "ell_sersic_1         0.2                  0.0                 \n",
      "n_1                  1.37                 0.01                \n",
      "I_e_1                844.67               3.91                \n",
      "r_e_1                5.85                 0.02                \n",
      "PA_2                 28.73                0.06                \n",
      "ell_exp_2            0.65                 0.0                 \n",
      "I_0_2                311.7                1.77                \n",
      "h_2                  29.73                0.1                 \n",
      "chi^2                3.38                \n",
      "AIC                  50886.79            \n",
      "BIC                  50970.57            \n"
     ]
    }
   ],
   "source": [
    "x0, y0 = 111.0, 146.0\n",
    "# Exp params\n",
    "PA_exp, ell_exp, I_0, h = 38, 0.65, 497, 30.3575\n",
    "# Sersic params\n",
    "PA_sersic, ell_sersic, n, I_e, r_e = 18, 0.4, 1.35, 1061, 5.77\n",
    "\n",
    "model_desc = ut.exp_sersic_model(\n",
    "    x0=x0, y0=y0, \n",
    "    PA_sersic=PA_sersic, ell_sersic=ell_sersic, n=n, I_e=I_e, r_e=r_e,\n",
    "    PA_exp=PA_exp, ell_exp=ell_exp, I_0=I_0, h=h\n",
    "    )\n",
    "\n",
    "imfit_fitter = pyimfit.Imfit(model_desc, psf=data_moffat)\n",
    "imfit_fitter.fit(data, mask=data_mask, gain=gain, read_noise=ron, original_sky=sky)\n",
    "data_fit = imfit_fitter.getModelImage()\n",
    "data_res = data - data_fit\n",
    "\n",
    "results = ut.get_dic_result(imfit_fitter, printit=True)"
   ]
  },
  {
   "cell_type": "code",
   "execution_count": 4,
   "metadata": {},
   "outputs": [],
   "source": [
    "data_mag = ut.ADU_to_mag(data, sky=sky, gain=gain, zcal=zcal)\n",
    "data_fit_mag = ut.ADU_to_mag(data_fit, sky=sky, gain=gain, zcal=zcal)\n",
    "data_res_mag = data_mag - data_fit_mag"
   ]
  },
  {
   "cell_type": "code",
   "execution_count": 5,
   "metadata": {},
   "outputs": [
    {
     "data": {
      "image/png": "[encoded data removed]",
      "text/plain": [
       "<Figure size 640x480 with 2 Axes>"
      ]
     },
     "metadata": {},
     "output_type": "display_data"
    }
   ],
   "source": [
    "maskFile = f\"../data/{galaxy_name}_mask2D_new.fits\"\n",
    "data_mask = pyimfit.FixImage(fits.getdata(maskFile))  \n",
    "\n",
    "resmag_xr = xr.DataArray(data_res_mag)\n",
    "\n",
    "#compute 90th percentile\n",
    "p = 0.01\n",
    "thres = resmag_xr.quantile(p).values\n",
    "\n",
    "masked = xr.where(resmag_xr < thres, resmag_xr, 0)\n",
    "masked = xr.where(resmag_xr >= thres, masked, 1)\n",
    "masked.plot()\n",
    "mask_val = masked.values\n",
    "hdu = fits.PrimaryHDU(mask_val)\n",
    "\n",
    "savefold = f'../data/'\n",
    "savepath = f'{savefold}{galaxy_name}_own_mask.fits'\n",
    "\n",
    "hdu.writeto(savepath, overwrite=True)\n",
    "\n",
    "dims = ('y', 'x')\n",
    "coords = {'y': np.arange(shape[0]), 'x': np.arange(shape[1])}\n",
    "data_mask_xr = xr.DataArray(data_mask, dims=dims, coords=coords)\n",
    "# data_mask_xr = \n",
    "data_mask_xr[140:210, 70:120] = 0\n",
    "data_mask_mod = data_mask_xr.values"
   ]
  },
  {
   "cell_type": "code",
   "execution_count": null,
   "metadata": {},
   "outputs": [],
   "source": []
  }
 ],
 "metadata": {
  "kernelspec": {
   "display_name": "galactic",
   "language": "python",
   "name": "python3"
  },
  "language_info": {
   "codemirror_mode": {
    "name": "ipython",
    "version": 3
   },
   "file_extension": ".py",
   "mimetype": "text/x-python",
   "name": "python",
   "nbconvert_exporter": "python",
   "pygments_lexer": "ipython3",
   "version": "3.10.12"
  }
 },
 "nbformat": 4,
 "nbformat_minor": 2
}
